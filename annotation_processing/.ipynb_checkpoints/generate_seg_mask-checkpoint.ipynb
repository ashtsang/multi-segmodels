{
 "cells": [
  {
   "cell_type": "code",
   "execution_count": null,
   "id": "c5c0cf0f",
   "metadata": {},
   "outputs": [],
   "source": [
    "'''\n",
    "this script will generate \"ground truth\" segmentation masks for input to custom unet\n",
    "- uses type map output from hovernet\n",
    "- combines with real ground truth annotations from experts\n",
    "- labels unlabelled segmented nuclei as nr_types + 1\n",
    "'''"
   ]
  },
  {
   "cell_type": "code",
   "execution_count": 28,
   "id": "cf1a5203",
   "metadata": {},
   "outputs": [],
   "source": [
    "import os\n",
    "# import cv2\n",
    "import numpy as np\n",
    "from glob import glob\n",
    "import scipy.io as sio\n",
    "import matplotlib.pyplot as plt"
   ]
  },
  {
   "cell_type": "code",
   "execution_count": 33,
   "id": "9987c11a",
   "metadata": {},
   "outputs": [],
   "source": [
    "## set path to data directories\n",
    "\n",
    "# path to out/eval dir of hovernet\n",
    "pred_dir = r'\\\\babyserverdw3\\PW Cloud Exp Documents\\Lab work documenting\\W-22-09-02 AT Establish HoverNet Training with freezing weights\\out\\Lymphocyte\\0921 data\\full branch\\pannuke_30_WLM0\\eval'\n",
    "\n",
    "# path to dataset/labels dir\n",
    "gt_dir = r'\\\\babyserverdw3\\PW Cloud Exp Documents\\Lab work documenting\\W-22-09-02 AT Establish HoverNet Training with freezing weights\\dataset\\Lymphocyte\\0921 dataset\\Split_0\\Test'\n",
    "\n",
    "# path to save labels\n",
    "save_dir = '../custom_unet/test/labels'\n",
    "if not os.path.exists(save_dir):\n",
    "    os.mkdir(save_dir)"
   ]
  },
  {
   "cell_type": "code",
   "execution_count": 37,
   "id": "f253e52d",
   "metadata": {},
   "outputs": [],
   "source": [
    "## get type maps\n",
    "\n",
    "# loop through files\n",
    "for fn in os.listdir(gt_dir):\n",
    "    im_name = fn[:-4]\n",
    "    # get pred type map\n",
    "    pred_file = os.path.join(pred_dir, im_name + '_eval.mat')\n",
    "    pred_matfile = sio.loadmat(pred_file)\n",
    "    pred_tm = pred_matfile['type_map']\n",
    "    # get gt type map\n",
    "    gt_file = os.path.join(gt_dir, fn)\n",
    "    gt_matfile = sio.loadmat(gt_file)\n",
    "    gt_tm = gt_matfile['type_map']\n",
    "    \n",
    "    ## create new type map with all segments - if gt, gt label; if no gt, n_classes + 1 label\n",
    "\n",
    "    # copy type maps\n",
    "    new_tm = np.copy(gt_tm)\n",
    "    gt_tm_copy = np.copy(gt_tm)\n",
    "    # get number of classes from gt\n",
    "    n_classes = len(np.unique(gt_tm))\n",
    "    # label all segmented regions with n_classes + 1\n",
    "    new_tm[pred_tm > 0] = n_classes + 1\n",
    "    # label gt segmented regions with class label\n",
    "    new_tm[gt_tm > 0] = gt_tm[gt_tm > 0]\n",
    "#     sio.savemat(os.path.join(save_dir, im_name + '.mat'), {\"type_map\": new_tm})\n",
    "    with open(os.path.join(save_dir, im_name + '.npy'), 'wb') as f:\n",
    "        np.save(f, new_tm)"
   ]
  }
 ],
 "metadata": {
  "kernelspec": {
   "display_name": "Python 3 (ipykernel)",
   "language": "python",
   "name": "python3"
  },
  "language_info": {
   "codemirror_mode": {
    "name": "ipython",
    "version": 3
   },
   "file_extension": ".py",
   "mimetype": "text/x-python",
   "name": "python",
   "nbconvert_exporter": "python",
   "pygments_lexer": "ipython3",
   "version": "3.9.13"
  }
 },
 "nbformat": 4,
 "nbformat_minor": 5
}
